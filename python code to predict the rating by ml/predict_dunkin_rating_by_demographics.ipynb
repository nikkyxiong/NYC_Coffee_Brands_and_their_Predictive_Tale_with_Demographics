{
 "cells": [
  {
   "cell_type": "markdown",
   "metadata": {},
   "source": [
    "## Predict the Rating for the Dunkin' on Yelp by Demographics in the Nearby Neighborhood"
   ]
  },
  {
   "cell_type": "code",
   "execution_count": 2,
   "metadata": {},
   "outputs": [],
   "source": [
    "import numpy as np\n",
    "import pandas as pd\n",
    "import warnings\n",
    "warnings.filterwarnings('ignore')\n",
    "\n",
    "%matplotlib inline"
   ]
  },
  {
   "cell_type": "code",
   "execution_count": 3,
   "metadata": {},
   "outputs": [
    {
     "data": {
      "text/html": [
       "<div>\n",
       "<style scoped>\n",
       "    .dataframe tbody tr th:only-of-type {\n",
       "        vertical-align: middle;\n",
       "    }\n",
       "\n",
       "    .dataframe tbody tr th {\n",
       "        vertical-align: top;\n",
       "    }\n",
       "\n",
       "    .dataframe thead th {\n",
       "        text-align: right;\n",
       "    }\n",
       "</style>\n",
       "<table border=\"1\" class=\"dataframe\">\n",
       "  <thead>\n",
       "    <tr style=\"text-align: right;\">\n",
       "      <th></th>\n",
       "      <th>Name</th>\n",
       "      <th>Avg_rating</th>\n",
       "      <th>Avg_review_count</th>\n",
       "      <th>Number</th>\n",
       "      <th>Zipcode</th>\n",
       "      <th>Boro</th>\n",
       "      <th>Total_Income</th>\n",
       "      <th>Median_Income</th>\n",
       "      <th>Mean_Income</th>\n",
       "      <th>Population</th>\n",
       "      <th>...</th>\n",
       "      <th>Unemployment_tot</th>\n",
       "      <th>Men_pct</th>\n",
       "      <th>Hispanic_pct</th>\n",
       "      <th>White_pct</th>\n",
       "      <th>Black_pct</th>\n",
       "      <th>Native_pct</th>\n",
       "      <th>Asian_pct</th>\n",
       "      <th>Poverty_pct</th>\n",
       "      <th>Unemployment_pct</th>\n",
       "      <th>Women_pct</th>\n",
       "    </tr>\n",
       "  </thead>\n",
       "  <tbody>\n",
       "    <tr>\n",
       "      <th>0</th>\n",
       "      <td>0</td>\n",
       "      <td>2.326923</td>\n",
       "      <td>15.653846</td>\n",
       "      <td>13</td>\n",
       "      <td>10001</td>\n",
       "      <td>Manhattan</td>\n",
       "      <td>2820411</td>\n",
       "      <td>71245</td>\n",
       "      <td>123113</td>\n",
       "      <td>17678</td>\n",
       "      <td>...</td>\n",
       "      <td>3719</td>\n",
       "      <td>49.766070</td>\n",
       "      <td>11.217709</td>\n",
       "      <td>59.960678</td>\n",
       "      <td>7.108918</td>\n",
       "      <td>0.311300</td>\n",
       "      <td>18.803590</td>\n",
       "      <td>14.887768</td>\n",
       "      <td>6.770312</td>\n",
       "      <td>50.233930</td>\n",
       "    </tr>\n",
       "    <tr>\n",
       "      <th>1</th>\n",
       "      <td>0</td>\n",
       "      <td>2.458333</td>\n",
       "      <td>13.750000</td>\n",
       "      <td>12</td>\n",
       "      <td>10018</td>\n",
       "      <td>Manhattan</td>\n",
       "      <td>2452452</td>\n",
       "      <td>84799</td>\n",
       "      <td>112292</td>\n",
       "      <td>4255</td>\n",
       "      <td>...</td>\n",
       "      <td>1483</td>\n",
       "      <td>52.122819</td>\n",
       "      <td>20.697978</td>\n",
       "      <td>48.019626</td>\n",
       "      <td>7.830491</td>\n",
       "      <td>0.075179</td>\n",
       "      <td>21.346892</td>\n",
       "      <td>14.746963</td>\n",
       "      <td>5.867922</td>\n",
       "      <td>47.877181</td>\n",
       "    </tr>\n",
       "    <tr>\n",
       "      <th>2</th>\n",
       "      <td>0</td>\n",
       "      <td>2.350000</td>\n",
       "      <td>19.700000</td>\n",
       "      <td>10</td>\n",
       "      <td>10016</td>\n",
       "      <td>Manhattan</td>\n",
       "      <td>8419008</td>\n",
       "      <td>96760</td>\n",
       "      <td>144872</td>\n",
       "      <td>49904</td>\n",
       "      <td>...</td>\n",
       "      <td>3805</td>\n",
       "      <td>47.851902</td>\n",
       "      <td>10.220971</td>\n",
       "      <td>65.417577</td>\n",
       "      <td>4.294796</td>\n",
       "      <td>0.016804</td>\n",
       "      <td>17.411640</td>\n",
       "      <td>12.243040</td>\n",
       "      <td>5.328236</td>\n",
       "      <td>52.148098</td>\n",
       "    </tr>\n",
       "    <tr>\n",
       "      <th>3</th>\n",
       "      <td>0</td>\n",
       "      <td>2.416667</td>\n",
       "      <td>12.944444</td>\n",
       "      <td>9</td>\n",
       "      <td>11101</td>\n",
       "      <td>Queens</td>\n",
       "      <td>1950293</td>\n",
       "      <td>39955</td>\n",
       "      <td>51519</td>\n",
       "      <td>22556</td>\n",
       "      <td>...</td>\n",
       "      <td>5963</td>\n",
       "      <td>50.508276</td>\n",
       "      <td>32.060472</td>\n",
       "      <td>34.798970</td>\n",
       "      <td>9.539945</td>\n",
       "      <td>0.156393</td>\n",
       "      <td>20.324515</td>\n",
       "      <td>21.380164</td>\n",
       "      <td>9.714258</td>\n",
       "      <td>49.491724</td>\n",
       "    </tr>\n",
       "    <tr>\n",
       "      <th>4</th>\n",
       "      <td>0</td>\n",
       "      <td>2.875000</td>\n",
       "      <td>15.125000</td>\n",
       "      <td>8</td>\n",
       "      <td>10038</td>\n",
       "      <td>Manhattan</td>\n",
       "      <td>1788906</td>\n",
       "      <td>55937</td>\n",
       "      <td>89760</td>\n",
       "      <td>15435</td>\n",
       "      <td>...</td>\n",
       "      <td>3119</td>\n",
       "      <td>49.143701</td>\n",
       "      <td>10.347221</td>\n",
       "      <td>35.814547</td>\n",
       "      <td>5.272113</td>\n",
       "      <td>1.083525</td>\n",
       "      <td>44.769303</td>\n",
       "      <td>19.695986</td>\n",
       "      <td>6.982471</td>\n",
       "      <td>50.856299</td>\n",
       "    </tr>\n",
       "  </tbody>\n",
       "</table>\n",
       "<p>5 rows × 29 columns</p>\n",
       "</div>"
      ],
      "text/plain": [
       "   Name  Avg_rating  Avg_review_count  Number  Zipcode       Boro  \\\n",
       "0     0    2.326923         15.653846      13    10001  Manhattan   \n",
       "1     0    2.458333         13.750000      12    10018  Manhattan   \n",
       "2     0    2.350000         19.700000      10    10016  Manhattan   \n",
       "3     0    2.416667         12.944444       9    11101     Queens   \n",
       "4     0    2.875000         15.125000       8    10038  Manhattan   \n",
       "\n",
       "   Total_Income  Median_Income  Mean_Income  Population  ...  \\\n",
       "0       2820411          71245       123113       17678  ...   \n",
       "1       2452452          84799       112292        4255  ...   \n",
       "2       8419008          96760       144872       49904  ...   \n",
       "3       1950293          39955        51519       22556  ...   \n",
       "4       1788906          55937        89760       15435  ...   \n",
       "\n",
       "   Unemployment_tot    Men_pct  Hispanic_pct  White_pct  Black_pct  \\\n",
       "0              3719  49.766070     11.217709  59.960678   7.108918   \n",
       "1              1483  52.122819     20.697978  48.019626   7.830491   \n",
       "2              3805  47.851902     10.220971  65.417577   4.294796   \n",
       "3              5963  50.508276     32.060472  34.798970   9.539945   \n",
       "4              3119  49.143701     10.347221  35.814547   5.272113   \n",
       "\n",
       "   Native_pct  Asian_pct  Poverty_pct  Unemployment_pct  Women_pct  \n",
       "0    0.311300  18.803590    14.887768          6.770312  50.233930  \n",
       "1    0.075179  21.346892    14.746963          5.867922  47.877181  \n",
       "2    0.016804  17.411640    12.243040          5.328236  52.148098  \n",
       "3    0.156393  20.324515    21.380164          9.714258  49.491724  \n",
       "4    1.083525  44.769303    19.695986          6.982471  50.856299  \n",
       "\n",
       "[5 rows x 29 columns]"
      ]
     },
     "execution_count": 3,
     "metadata": {},
     "output_type": "execute_result"
    }
   ],
   "source": [
    "df = pd.read_csv('cleaned_dd_only.csv')\n",
    "df.head()"
   ]
  },
  {
   "cell_type": "code",
   "execution_count": 6,
   "metadata": {},
   "outputs": [],
   "source": [
    "from sklearn.model_selection import train_test_split\n",
    "import random\n",
    "\n",
    "y = df['Avg_rating']\n",
    "x = df[['Avg_review_count', 'Total_Income', 'Population', 'Men_pct', 'White_pct', 'Black_pct', 'Asian_pct', 'Poverty_pct']]\n",
    "\n",
    "x_train,x_test, y_train, y_test = train_test_split(x, y)\n",
    "\n",
    "random.seed(12345)"
   ]
  },
  {
   "cell_type": "code",
   "execution_count": 10,
   "metadata": {},
   "outputs": [
    {
     "name": "stdout",
     "output_type": "stream",
     "text": [
      "Training set score: 0.135\n",
      "Test set score: -0.301\n",
      "Average cross validation score: -0.132\n"
     ]
    }
   ],
   "source": [
    "# knn\n",
    "\n",
    "from sklearn.neighbors import KNeighborsRegressor\n",
    "from sklearn.model_selection import cross_val_score\n",
    "import numpy as np\n",
    "\n",
    "knn = KNeighborsRegressor().fit(x_train, y_train)\n",
    "\n",
    "print(\"Training set score: {:.3f}\".format(knn.score(x_train, y_train)))\n",
    "print(\"Test set score: {:.3f}\".format(knn.score(x_test, y_test)))\n",
    "print(\"Average cross validation score: {:.3f}\".format(\n",
    "    np.mean(cross_val_score(knn, x_train, y_train)))) "
   ]
  },
  {
   "cell_type": "code",
   "execution_count": 11,
   "metadata": {},
   "outputs": [
    {
     "name": "stdout",
     "output_type": "stream",
     "text": [
      "LinearReg Coefficients: [-1.78018433e-02  3.70553568e-08 -3.82044252e-06  1.77622355e-02\n",
      " -1.84320401e-03 -5.45541231e-03 -1.43936370e-03  1.03073322e-02]\n",
      "Training set score: 0.171\n",
      "Test set score: -0.063\n",
      "Average cross validation score: -0.056\n"
     ]
    }
   ],
   "source": [
    "# OLS\n",
    "\n",
    "from sklearn.linear_model import LinearRegression\n",
    "\n",
    "linear = LinearRegression().fit(x_train, y_train)\n",
    "\n",
    "print(\"LinearReg Coefficients: {}\".format(linear.coef_))\n",
    "print(\"Training set score: {:.3f}\".format(linear.score(x_train, y_train)))\n",
    "print(\"Test set score: {:.3f}\".format(linear.score(x_test, y_test)))\n",
    "print(\"Average cross validation score: {:.3f}\".format(np.mean(cross_val_score(linear, x_train, y_train))))"
   ]
  },
  {
   "cell_type": "code",
   "execution_count": 12,
   "metadata": {},
   "outputs": [
    {
     "name": "stdout",
     "output_type": "stream",
     "text": [
      "Ridge Coefficients: [-1.77977412e-02  3.70489478e-08 -3.82025903e-06  1.77208512e-02\n",
      " -1.84519371e-03 -5.45854246e-03 -1.44120362e-03  1.03047120e-02]\n",
      "Training set score: 0.171\n",
      "Test set score: -0.063\n",
      "Average cross validation score: -0.056\n"
     ]
    }
   ],
   "source": [
    "# Ridge\n",
    "\n",
    "from sklearn.linear_model import Ridge\n",
    "\n",
    "ridge = Ridge().fit(x_train, y_train)\n",
    "\n",
    "print(\"Ridge Coefficients: {}\".format(ridge.coef_))\n",
    "print(\"Training set score: {:.3f}\".format(ridge.score(x_train, y_train)))\n",
    "print(\"Test set score: {:.3f}\".format(ridge.score(x_test, y_test)))\n",
    "print(\"Average cross validation score: {:.3f}\".format(\n",
    "    np.mean(cross_val_score(ridge, x_train, y_train))))"
   ]
  },
  {
   "cell_type": "code",
   "execution_count": 13,
   "metadata": {},
   "outputs": [
    {
     "name": "stdout",
     "output_type": "stream",
     "text": [
      "Lasso Coefficients: [-1.51996837e-03  1.20274909e-08 -1.45604633e-06  0.00000000e+00\n",
      " -0.00000000e+00 -3.47753309e-04 -0.00000000e+00  4.74129533e-04]\n",
      "Training set score: 0.026\n",
      "Test set score: -0.049\n",
      "Number of features used: 5\n",
      "Average cross validation score: -0.088\n"
     ]
    }
   ],
   "source": [
    "# Lasso\n",
    "\n",
    "from sklearn.linear_model import Lasso\n",
    "\n",
    "lasso = Lasso(max_iter=100000).fit(x_train, y_train)\n",
    "\n",
    "print(\"Lasso Coefficients: {}\".format(lasso.coef_))\n",
    "print(\"Training set score: {:.3f}\".format(lasso.score(x_train, y_train)))\n",
    "print(\"Test set score: {:.3f}\".format(lasso.score(x_test, y_test)))\n",
    "print(\"Number of features used: {}\".format(np.sum(lasso.coef_ != 0)))\n",
    "print(\"Average cross validation score: {:.3f}\".format(\n",
    "    np.mean(cross_val_score(lasso, x_train, y_train))))"
   ]
  },
  {
   "cell_type": "markdown",
   "metadata": {},
   "source": [
    "### Scaling the data with the StandardScaler"
   ]
  },
  {
   "cell_type": "code",
   "execution_count": 14,
   "metadata": {},
   "outputs": [
    {
     "data": {
      "text/plain": [
       "0.017344877327694075"
      ]
     },
     "execution_count": 14,
     "metadata": {},
     "output_type": "execute_result"
    }
   ],
   "source": [
    "from sklearn.preprocessing import StandardScaler\n",
    "from sklearn.pipeline import make_pipeline\n",
    "\n",
    "pipe = make_pipeline(StandardScaler(), knn)\n",
    "pipe.fit(x_train, y_train)\n",
    "pipe.score(x_test, y_test) "
   ]
  },
  {
   "cell_type": "code",
   "execution_count": 15,
   "metadata": {},
   "outputs": [
    {
     "data": {
      "text/plain": [
       "-0.06268978937442049"
      ]
     },
     "execution_count": 15,
     "metadata": {},
     "output_type": "execute_result"
    }
   ],
   "source": [
    "pipe = make_pipeline(StandardScaler(), linear)\n",
    "pipe.fit(x_train, y_train)\n",
    "pipe.score(x_test, y_test)"
   ]
  },
  {
   "cell_type": "code",
   "execution_count": 16,
   "metadata": {},
   "outputs": [
    {
     "data": {
      "text/plain": [
       "-0.05930826489623109"
      ]
     },
     "execution_count": 16,
     "metadata": {},
     "output_type": "execute_result"
    }
   ],
   "source": [
    "pipe = make_pipeline(StandardScaler(), ridge)\n",
    "pipe.fit(x_train, y_train)\n",
    "pipe.score(x_test, y_test)"
   ]
  },
  {
   "cell_type": "code",
   "execution_count": 17,
   "metadata": {},
   "outputs": [
    {
     "data": {
      "text/plain": [
       "-2.8418810457342403e-05"
      ]
     },
     "execution_count": 17,
     "metadata": {},
     "output_type": "execute_result"
    }
   ],
   "source": [
    "pipe = make_pipeline(StandardScaler(), lasso)\n",
    "pipe.fit(x_train, y_train)\n",
    "pipe.score(x_test, y_test)"
   ]
  },
  {
   "cell_type": "markdown",
   "metadata": {},
   "source": [
    "### GridSearch CV"
   ]
  },
  {
   "cell_type": "code",
   "execution_count": 18,
   "metadata": {},
   "outputs": [
    {
     "name": "stdout",
     "output_type": "stream",
     "text": [
      "best mean cross-validation score: -0.080\n",
      "best parameters: {'n_neighbors': 9}\n",
      "test-set score: -0.058\n"
     ]
    }
   ],
   "source": [
    "from sklearn.model_selection import GridSearchCV\n",
    "\n",
    "param_grid = {'n_neighbors': np.arange(1, 15, 2)}\n",
    "grid = GridSearchCV(KNeighborsRegressor(), param_grid=param_grid)\n",
    "grid.fit(x_train, y_train)\n",
    "\n",
    "print(\"best mean cross-validation score: {:.3f}\".format(grid.best_score_))\n",
    "print(\"best parameters: {}\".format(grid.best_params_))\n",
    "print(\"test-set score: {:.3f}\".format(grid.score(x_test, y_test)))"
   ]
  },
  {
   "cell_type": "code",
   "execution_count": 19,
   "metadata": {},
   "outputs": [
    {
     "name": "stdout",
     "output_type": "stream",
     "text": [
      "best mean cross-validation score: -0.056\n",
      "best parameters for OLS: {'copy_X': True, 'fit_intercept': True, 'normalize': False}\n",
      "test-set score: -0.063\n"
     ]
    }
   ],
   "source": [
    "# Tune whether to calculate the intercept for this model ('fit_intercept'), \n",
    "# whether to normalize the regressors ('normalize'), and whether to overwrite X ('copy_X')\n",
    "param_grid = {'fit_intercept':[True,False], 'normalize':[True,False], 'copy_X':[True, False]}\n",
    "grid = GridSearchCV(LinearRegression(), param_grid=param_grid)\n",
    "grid.fit(x_train, y_train)\n",
    "\n",
    "print(\"best mean cross-validation score: {:.3f}\".format(grid.best_score_))\n",
    "print(\"best parameters for OLS: {}\".format(grid.best_params_))\n",
    "print(\"test-set score: {:.3f}\".format(grid.score(x_test, y_test)))"
   ]
  },
  {
   "cell_type": "code",
   "execution_count": 20,
   "metadata": {},
   "outputs": [
    {
     "name": "stdout",
     "output_type": "stream",
     "text": [
      "best mean cross-validation score: -0.056\n",
      "best parameters for Ridge: {'alpha': 9}\n",
      "test-set score: -0.062\n"
     ]
    }
   ],
   "source": [
    "# Tune the regularization strength 'alpha'\n",
    "param_grid = {'alpha': np.arange(1, 10, 1)}\n",
    "grid = GridSearchCV(Ridge(), param_grid=param_grid)\n",
    "grid.fit(x_train, y_train)\n",
    "\n",
    "print(\"best mean cross-validation score: {:.3f}\".format(grid.best_score_))\n",
    "print(\"best parameters for Ridge: {}\".format(grid.best_params_))\n",
    "print(\"test-set score: {:.3f}\".format(grid.score(x_test, y_test)))"
   ]
  },
  {
   "cell_type": "code",
   "execution_count": 21,
   "metadata": {},
   "outputs": [
    {
     "name": "stdout",
     "output_type": "stream",
     "text": [
      "best mean cross-validation score: -0.086\n",
      "best parameters for Lasso: {'alpha': 2}\n",
      "test-set score: -0.058\n"
     ]
    }
   ],
   "source": [
    "# Tune the regularization strength 'alpha'\n",
    "param_grid = {'alpha': np.arange(1, 10, 1)}\n",
    "grid = GridSearchCV(Lasso(max_iter=10000000), param_grid=param_grid)\n",
    "grid.fit(x_train, y_train)\n",
    "\n",
    "print(\"best mean cross-validation score: {:.3f}\".format(grid.best_score_))\n",
    "print(\"best parameters for Lasso: {}\".format(grid.best_params_))\n",
    "print(\"test-set score: {:.3f}\".format(grid.score(x_test, y_test)))"
   ]
  },
  {
   "cell_type": "code",
   "execution_count": 22,
   "metadata": {},
   "outputs": [
    {
     "name": "stdout",
     "output_type": "stream",
     "text": [
      "Ridge Coefficients: [-0.15026981  0.0888584  -0.09489671  0.04084934 -0.04316488 -0.12274379\n",
      " -0.02015968  0.09858014]\n",
      "Lasso Coefficients: [-0.  0. -0.  0. -0. -0. -0.  0.]\n"
     ]
    }
   ],
   "source": [
    "print(\"Ridge Coefficients: {}\".format(ridge.coef_))\n",
    "print(\"Lasso Coefficients: {}\".format(lasso.coef_))"
   ]
  },
  {
   "cell_type": "code",
   "execution_count": null,
   "metadata": {},
   "outputs": [],
   "source": []
  }
 ],
 "metadata": {
  "kernelspec": {
   "display_name": "Python 3",
   "language": "python",
   "name": "python3"
  },
  "language_info": {
   "codemirror_mode": {
    "name": "ipython",
    "version": 3
   },
   "file_extension": ".py",
   "mimetype": "text/x-python",
   "name": "python",
   "nbconvert_exporter": "python",
   "pygments_lexer": "ipython3",
   "version": "3.7.3"
  }
 },
 "nbformat": 4,
 "nbformat_minor": 2
}
