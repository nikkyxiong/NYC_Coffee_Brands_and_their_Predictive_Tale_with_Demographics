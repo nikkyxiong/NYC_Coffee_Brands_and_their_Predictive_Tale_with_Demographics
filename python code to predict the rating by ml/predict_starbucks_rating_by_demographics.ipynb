{
 "cells": [
  {
   "cell_type": "markdown",
   "metadata": {},
   "source": [
    "## Predict the Rating for Starbucks on Yelp by Demographics in the Nearby Neighborhood"
   ]
  },
  {
   "cell_type": "code",
   "execution_count": 31,
   "metadata": {},
   "outputs": [],
   "source": [
    "import numpy as np\n",
    "import pandas as pd\n",
    "import warnings\n",
    "warnings.filterwarnings('ignore')\n",
    "\n",
    "%matplotlib inline"
   ]
  },
  {
   "cell_type": "code",
   "execution_count": 12,
   "metadata": {},
   "outputs": [
    {
     "data": {
      "text/html": [
       "<div>\n",
       "<style scoped>\n",
       "    .dataframe tbody tr th:only-of-type {\n",
       "        vertical-align: middle;\n",
       "    }\n",
       "\n",
       "    .dataframe tbody tr th {\n",
       "        vertical-align: top;\n",
       "    }\n",
       "\n",
       "    .dataframe thead th {\n",
       "        text-align: right;\n",
       "    }\n",
       "</style>\n",
       "<table border=\"1\" class=\"dataframe\">\n",
       "  <thead>\n",
       "    <tr style=\"text-align: right;\">\n",
       "      <th></th>\n",
       "      <th>Name</th>\n",
       "      <th>Avg_rating</th>\n",
       "      <th>Avg_review_count</th>\n",
       "      <th>Number</th>\n",
       "      <th>Zipcode</th>\n",
       "      <th>Boro</th>\n",
       "      <th>Total_Income</th>\n",
       "      <th>Median_Income</th>\n",
       "      <th>Mean_Income</th>\n",
       "      <th>Population</th>\n",
       "      <th>...</th>\n",
       "      <th>Unemployment_tot</th>\n",
       "      <th>Men_pct</th>\n",
       "      <th>Hispanic_pct</th>\n",
       "      <th>White_pct</th>\n",
       "      <th>Black_pct</th>\n",
       "      <th>Native_pct</th>\n",
       "      <th>Asian_pct</th>\n",
       "      <th>Poverty_pct</th>\n",
       "      <th>Unemployment_pct</th>\n",
       "      <th>Women_pct</th>\n",
       "    </tr>\n",
       "  </thead>\n",
       "  <tbody>\n",
       "    <tr>\n",
       "      <th>0</th>\n",
       "      <td>1</td>\n",
       "      <td>2.585938</td>\n",
       "      <td>43.453125</td>\n",
       "      <td>8</td>\n",
       "      <td>10017</td>\n",
       "      <td>Manhattan</td>\n",
       "      <td>5952175</td>\n",
       "      <td>102524</td>\n",
       "      <td>149724</td>\n",
       "      <td>16231</td>\n",
       "      <td>...</td>\n",
       "      <td>1285</td>\n",
       "      <td>47.458003</td>\n",
       "      <td>6.455983</td>\n",
       "      <td>72.890290</td>\n",
       "      <td>1.788265</td>\n",
       "      <td>0.078822</td>\n",
       "      <td>16.577171</td>\n",
       "      <td>7.061924</td>\n",
       "      <td>3.165181</td>\n",
       "      <td>52.541997</td>\n",
       "    </tr>\n",
       "    <tr>\n",
       "      <th>1</th>\n",
       "      <td>1</td>\n",
       "      <td>2.618056</td>\n",
       "      <td>48.229167</td>\n",
       "      <td>8</td>\n",
       "      <td>10036</td>\n",
       "      <td>Manhattan</td>\n",
       "      <td>5718183</td>\n",
       "      <td>62393</td>\n",
       "      <td>89879</td>\n",
       "      <td>18660</td>\n",
       "      <td>...</td>\n",
       "      <td>2531</td>\n",
       "      <td>56.533284</td>\n",
       "      <td>22.541803</td>\n",
       "      <td>51.879798</td>\n",
       "      <td>6.680513</td>\n",
       "      <td>0.049953</td>\n",
       "      <td>16.594805</td>\n",
       "      <td>14.428436</td>\n",
       "      <td>6.654222</td>\n",
       "      <td>43.466716</td>\n",
       "    </tr>\n",
       "    <tr>\n",
       "      <th>2</th>\n",
       "      <td>1</td>\n",
       "      <td>2.910714</td>\n",
       "      <td>106.285714</td>\n",
       "      <td>7</td>\n",
       "      <td>10011</td>\n",
       "      <td>Manhattan</td>\n",
       "      <td>9207647</td>\n",
       "      <td>92359</td>\n",
       "      <td>160937</td>\n",
       "      <td>45899</td>\n",
       "      <td>...</td>\n",
       "      <td>4043</td>\n",
       "      <td>50.706980</td>\n",
       "      <td>10.394548</td>\n",
       "      <td>70.416171</td>\n",
       "      <td>5.008382</td>\n",
       "      <td>0.301256</td>\n",
       "      <td>11.062656</td>\n",
       "      <td>10.530599</td>\n",
       "      <td>4.911202</td>\n",
       "      <td>49.293020</td>\n",
       "    </tr>\n",
       "    <tr>\n",
       "      <th>3</th>\n",
       "      <td>1</td>\n",
       "      <td>2.480159</td>\n",
       "      <td>33.087302</td>\n",
       "      <td>7</td>\n",
       "      <td>10019</td>\n",
       "      <td>Manhattan</td>\n",
       "      <td>7306115</td>\n",
       "      <td>84786</td>\n",
       "      <td>133175</td>\n",
       "      <td>39048</td>\n",
       "      <td>...</td>\n",
       "      <td>3515</td>\n",
       "      <td>50.436119</td>\n",
       "      <td>17.627640</td>\n",
       "      <td>58.931952</td>\n",
       "      <td>4.806214</td>\n",
       "      <td>0.079294</td>\n",
       "      <td>15.996440</td>\n",
       "      <td>12.177361</td>\n",
       "      <td>5.688162</td>\n",
       "      <td>49.563881</td>\n",
       "    </tr>\n",
       "    <tr>\n",
       "      <th>4</th>\n",
       "      <td>1</td>\n",
       "      <td>2.586735</td>\n",
       "      <td>37.377551</td>\n",
       "      <td>7</td>\n",
       "      <td>10022</td>\n",
       "      <td>Manhattan</td>\n",
       "      <td>12169071</td>\n",
       "      <td>93107</td>\n",
       "      <td>158965</td>\n",
       "      <td>26460</td>\n",
       "      <td>...</td>\n",
       "      <td>2054</td>\n",
       "      <td>44.135946</td>\n",
       "      <td>5.792102</td>\n",
       "      <td>80.829136</td>\n",
       "      <td>2.116223</td>\n",
       "      <td>0.114276</td>\n",
       "      <td>9.954713</td>\n",
       "      <td>4.920218</td>\n",
       "      <td>4.346722</td>\n",
       "      <td>55.864054</td>\n",
       "    </tr>\n",
       "  </tbody>\n",
       "</table>\n",
       "<p>5 rows × 29 columns</p>\n",
       "</div>"
      ],
      "text/plain": [
       "   Name  Avg_rating  Avg_review_count  Number  Zipcode       Boro  \\\n",
       "0     1    2.585938         43.453125       8    10017  Manhattan   \n",
       "1     1    2.618056         48.229167       8    10036  Manhattan   \n",
       "2     1    2.910714        106.285714       7    10011  Manhattan   \n",
       "3     1    2.480159         33.087302       7    10019  Manhattan   \n",
       "4     1    2.586735         37.377551       7    10022  Manhattan   \n",
       "\n",
       "   Total_Income  Median_Income  Mean_Income  Population  ...  \\\n",
       "0       5952175         102524       149724       16231  ...   \n",
       "1       5718183          62393        89879       18660  ...   \n",
       "2       9207647          92359       160937       45899  ...   \n",
       "3       7306115          84786       133175       39048  ...   \n",
       "4      12169071          93107       158965       26460  ...   \n",
       "\n",
       "   Unemployment_tot    Men_pct  Hispanic_pct  White_pct  Black_pct  \\\n",
       "0              1285  47.458003      6.455983  72.890290   1.788265   \n",
       "1              2531  56.533284     22.541803  51.879798   6.680513   \n",
       "2              4043  50.706980     10.394548  70.416171   5.008382   \n",
       "3              3515  50.436119     17.627640  58.931952   4.806214   \n",
       "4              2054  44.135946      5.792102  80.829136   2.116223   \n",
       "\n",
       "   Native_pct  Asian_pct  Poverty_pct  Unemployment_pct  Women_pct  \n",
       "0    0.078822  16.577171     7.061924          3.165181  52.541997  \n",
       "1    0.049953  16.594805    14.428436          6.654222  43.466716  \n",
       "2    0.301256  11.062656    10.530599          4.911202  49.293020  \n",
       "3    0.079294  15.996440    12.177361          5.688162  49.563881  \n",
       "4    0.114276   9.954713     4.920218          4.346722  55.864054  \n",
       "\n",
       "[5 rows x 29 columns]"
      ]
     },
     "execution_count": 12,
     "metadata": {},
     "output_type": "execute_result"
    }
   ],
   "source": [
    "df = pd.read_csv('cleaned_sb_only.csv')\n",
    "df.head()"
   ]
  },
  {
   "cell_type": "code",
   "execution_count": 14,
   "metadata": {},
   "outputs": [],
   "source": [
    "from sklearn.model_selection import train_test_split\n",
    "import random\n",
    "\n",
    "\n",
    "y = df['Avg_rating']\n",
    "x = df[['Avg_review_count', 'Total_Income', 'Population', 'Men_pct', 'White_pct', 'Black_pct', 'Asian_pct', 'Poverty_pct']]\n",
    "\n",
    "x_train,x_test, y_train, y_test = train_test_split(x, y)\n",
    "\n",
    "random.seed(12345)"
   ]
  },
  {
   "cell_type": "code",
   "execution_count": 32,
   "metadata": {},
   "outputs": [
    {
     "name": "stdout",
     "output_type": "stream",
     "text": [
      "Training set score: 0.063\n",
      "Test set score: -0.228\n",
      "Average cross validation score: -0.155\n"
     ]
    }
   ],
   "source": [
    "# knn\n",
    "\n",
    "from sklearn.neighbors import KNeighborsRegressor\n",
    "from sklearn.model_selection import cross_val_score\n",
    "import numpy as np\n",
    "\n",
    "knn = KNeighborsRegressor().fit(x_train, y_train)\n",
    "\n",
    "print(\"Training set score: {:.3f}\".format(knn.score(x_train, y_train)))\n",
    "print(\"Test set score: {:.3f}\".format(knn.score(x_test, y_test)))\n",
    "print(\"Average cross validation score: {:.3f}\".format(\n",
    "    np.mean(cross_val_score(knn, x_train, y_train)))) "
   ]
  },
  {
   "cell_type": "code",
   "execution_count": 33,
   "metadata": {},
   "outputs": [
    {
     "name": "stdout",
     "output_type": "stream",
     "text": [
      "LinearReg Coefficients: [ 1.34383129e-04 -6.21562130e-08  3.67297636e-06  5.89332706e-03\n",
      " -1.89511149e-03 -1.57181214e-03 -5.73618294e-03 -3.88829624e-02]\n",
      "Training set score: 0.232\n",
      "Test set score: 0.051\n",
      "Average cross validation score: -0.707\n"
     ]
    }
   ],
   "source": [
    "# OLS\n",
    "\n",
    "from sklearn.linear_model import LinearRegression\n",
    "\n",
    "linear = LinearRegression().fit(x_train, y_train)\n",
    "\n",
    "print(\"LinearReg Coefficients: {}\".format(linear.coef_))\n",
    "print(\"Training set score: {:.3f}\".format(linear.score(x_train, y_train)))\n",
    "print(\"Test set score: {:.3f}\".format(linear.score(x_test, y_test)))\n",
    "print(\"Average cross validation score: {:.3f}\".format(np.mean(cross_val_score(linear, x_train, y_train))))"
   ]
  },
  {
   "cell_type": "code",
   "execution_count": 34,
   "metadata": {},
   "outputs": [
    {
     "name": "stdout",
     "output_type": "stream",
     "text": [
      "Ridge Coefficients: [ 1.34145410e-04 -6.21487711e-08  3.67228437e-06  5.87807427e-03\n",
      " -1.89044496e-03 -1.57247633e-03 -5.73113630e-03 -3.88637242e-02]\n",
      "Training set score: 0.232\n",
      "Test set score: 0.051\n",
      "Average cross validation score: -0.707\n"
     ]
    }
   ],
   "source": [
    "# Ridge\n",
    "\n",
    "from sklearn.linear_model import Ridge\n",
    "\n",
    "ridge = Ridge().fit(x_train, y_train)\n",
    "\n",
    "print(\"Ridge Coefficients: {}\".format(ridge.coef_))\n",
    "print(\"Training set score: {:.3f}\".format(ridge.score(x_train, y_train)))\n",
    "print(\"Test set score: {:.3f}\".format(ridge.score(x_test, y_test)))\n",
    "print(\"Average cross validation score: {:.3f}\".format(\n",
    "    np.mean(cross_val_score(ridge, x_train, y_train))))"
   ]
  },
  {
   "cell_type": "code",
   "execution_count": 35,
   "metadata": {},
   "outputs": [
    {
     "name": "stdout",
     "output_type": "stream",
     "text": [
      "Lasso Coefficients: [ 0.00000000e+00 -3.43126220e-08  2.21225271e-06  0.00000000e+00\n",
      "  1.35537037e-03 -0.00000000e+00  0.00000000e+00 -1.42639514e-02]\n",
      "Training set score: 0.158\n",
      "Test set score: 0.112\n",
      "Number of features used: 4\n",
      "Average cross validation score: -0.497\n"
     ]
    }
   ],
   "source": [
    "# Lasso\n",
    "\n",
    "from sklearn.linear_model import Lasso\n",
    "\n",
    "lasso = Lasso(max_iter=100000).fit(x_train, y_train)\n",
    "\n",
    "print(\"Lasso Coefficients: {}\".format(lasso.coef_))\n",
    "print(\"Training set score: {:.3f}\".format(lasso.score(x_train, y_train)))\n",
    "print(\"Test set score: {:.3f}\".format(lasso.score(x_test, y_test)))\n",
    "print(\"Number of features used: {}\".format(np.sum(lasso.coef_ != 0)))\n",
    "print(\"Average cross validation score: {:.3f}\".format(\n",
    "    np.mean(cross_val_score(lasso, x_train, y_train))))"
   ]
  },
  {
   "cell_type": "markdown",
   "metadata": {},
   "source": [
    "### Scaling the data with the StandardScaler"
   ]
  },
  {
   "cell_type": "code",
   "execution_count": 37,
   "metadata": {},
   "outputs": [
    {
     "data": {
      "text/plain": [
       "0.14937603567518387"
      ]
     },
     "execution_count": 37,
     "metadata": {},
     "output_type": "execute_result"
    }
   ],
   "source": [
    "from sklearn.preprocessing import StandardScaler\n",
    "from sklearn.pipeline import make_pipeline\n",
    "\n",
    "pipe = make_pipeline(StandardScaler(), knn)\n",
    "pipe.fit(x_train, y_train)\n",
    "pipe.score(x_test, y_test) "
   ]
  },
  {
   "cell_type": "code",
   "execution_count": 38,
   "metadata": {},
   "outputs": [
    {
     "data": {
      "text/plain": [
       "0.05096365806789971"
      ]
     },
     "execution_count": 38,
     "metadata": {},
     "output_type": "execute_result"
    }
   ],
   "source": [
    "pipe = make_pipeline(StandardScaler(), linear)\n",
    "pipe.fit(x_train, y_train)\n",
    "pipe.score(x_test, y_test)"
   ]
  },
  {
   "cell_type": "code",
   "execution_count": 39,
   "metadata": {},
   "outputs": [
    {
     "data": {
      "text/plain": [
       "0.05915593129896868"
      ]
     },
     "execution_count": 39,
     "metadata": {},
     "output_type": "execute_result"
    }
   ],
   "source": [
    "pipe = make_pipeline(StandardScaler(), ridge)\n",
    "pipe.fit(x_train, y_train)\n",
    "pipe.score(x_test, y_test)"
   ]
  },
  {
   "cell_type": "code",
   "execution_count": 40,
   "metadata": {},
   "outputs": [
    {
     "data": {
      "text/plain": [
       "-0.030878636261923772"
      ]
     },
     "execution_count": 40,
     "metadata": {},
     "output_type": "execute_result"
    }
   ],
   "source": [
    "pipe = make_pipeline(StandardScaler(), lasso)\n",
    "pipe.fit(x_train, y_train)\n",
    "pipe.score(x_test, y_test)"
   ]
  },
  {
   "cell_type": "markdown",
   "metadata": {},
   "source": [
    "### GridSearch CV"
   ]
  },
  {
   "cell_type": "code",
   "execution_count": 44,
   "metadata": {},
   "outputs": [
    {
     "name": "stdout",
     "output_type": "stream",
     "text": [
      "best mean cross-validation score: -0.059\n",
      "best parameters: {'n_neighbors': 9}\n",
      "test-set score: -0.140\n"
     ]
    }
   ],
   "source": [
    "from sklearn.model_selection import GridSearchCV\n",
    "\n",
    "param_grid = {'n_neighbors': np.arange(1, 15, 2)}\n",
    "grid = GridSearchCV(KNeighborsRegressor(), param_grid=param_grid)\n",
    "grid.fit(x_train, y_train)\n",
    "\n",
    "print(\"best mean cross-validation score: {:.3f}\".format(grid.best_score_))\n",
    "print(\"best parameters: {}\".format(grid.best_params_))\n",
    "print(\"test-set score: {:.3f}\".format(grid.score(x_test, y_test)))"
   ]
  },
  {
   "cell_type": "code",
   "execution_count": 47,
   "metadata": {},
   "outputs": [
    {
     "name": "stdout",
     "output_type": "stream",
     "text": [
      "best mean cross-validation score: -0.731\n",
      "best parameters for OLS: {'copy_X': True, 'fit_intercept': True, 'normalize': True}\n",
      "test-set score: 0.051\n"
     ]
    }
   ],
   "source": [
    "# Tune whether to calculate the intercept for this model ('fit_intercept'), \n",
    "# whether to normalize the regressors ('normalize'), and whether to overwrite X ('copy_X')\n",
    "param_grid = {'fit_intercept':[True,False], 'normalize':[True,False], 'copy_X':[True, False]}\n",
    "grid = GridSearchCV(LinearRegression(), param_grid=param_grid)\n",
    "grid.fit(x_train, y_train)\n",
    "\n",
    "print(\"best mean cross-validation score: {:.3f}\".format(grid.best_score_))\n",
    "print(\"best parameters for OLS: {}\".format(grid.best_params_))\n",
    "print(\"test-set score: {:.3f}\".format(grid.score(x_test, y_test)))"
   ]
  },
  {
   "cell_type": "code",
   "execution_count": 49,
   "metadata": {},
   "outputs": [
    {
     "name": "stdout",
     "output_type": "stream",
     "text": [
      "best mean cross-validation score: -0.726\n",
      "best parameters for Ridge: {'alpha': 9}\n",
      "test-set score: 0.052\n"
     ]
    }
   ],
   "source": [
    "# Tune the regularization strength 'alpha'\n",
    "param_grid = {'alpha': np.arange(1, 10, 1)}\n",
    "grid = GridSearchCV(Ridge(), param_grid=param_grid)\n",
    "grid.fit(x_train, y_train)\n",
    "\n",
    "print(\"best mean cross-validation score: {:.3f}\".format(grid.best_score_))\n",
    "print(\"best parameters for Ridge: {}\".format(grid.best_params_))\n",
    "print(\"test-set score: {:.3f}\".format(grid.score(x_test, y_test)))"
   ]
  },
  {
   "cell_type": "code",
   "execution_count": 51,
   "metadata": {},
   "outputs": [
    {
     "name": "stdout",
     "output_type": "stream",
     "text": [
      "best mean cross-validation score: -0.103\n",
      "best parameters for Lasso: {'alpha': 9}\n",
      "test-set score: 0.002\n"
     ]
    }
   ],
   "source": [
    "# Tune the regularization strength 'alpha'\n",
    "param_grid = {'alpha': np.arange(1, 10, 1)}\n",
    "grid = GridSearchCV(Lasso(max_iter=10000000), param_grid=param_grid)\n",
    "grid.fit(x_train, y_train)\n",
    "\n",
    "print(\"best mean cross-validation score: {:.3f}\".format(grid.best_score_))\n",
    "print(\"best parameters for Lasso: {}\".format(grid.best_params_))\n",
    "print(\"test-set score: {:.3f}\".format(grid.score(x_test, y_test)))"
   ]
  },
  {
   "cell_type": "code",
   "execution_count": 52,
   "metadata": {},
   "outputs": [
    {
     "name": "stdout",
     "output_type": "stream",
     "text": [
      "Ridge Coefficients: [ 0.00342676 -0.17644286  0.09043076  0.01559346 -0.03299452 -0.01970553\n",
      " -0.06917628 -0.32888098]\n",
      "Lasso Coefficients: [ 0. -0.  0.  0.  0. -0.  0. -0.]\n"
     ]
    }
   ],
   "source": [
    "print(\"Ridge Coefficients: {}\".format(ridge.coef_))\n",
    "print(\"Lasso Coefficients: {}\".format(lasso.coef_))"
   ]
  },
  {
   "cell_type": "code",
   "execution_count": null,
   "metadata": {},
   "outputs": [],
   "source": []
  }
 ],
 "metadata": {
  "kernelspec": {
   "display_name": "Python 3",
   "language": "python",
   "name": "python3"
  },
  "language_info": {
   "codemirror_mode": {
    "name": "ipython",
    "version": 3
   },
   "file_extension": ".py",
   "mimetype": "text/x-python",
   "name": "python",
   "nbconvert_exporter": "python",
   "pygments_lexer": "ipython3",
   "version": "3.7.3"
  }
 },
 "nbformat": 4,
 "nbformat_minor": 2
}
